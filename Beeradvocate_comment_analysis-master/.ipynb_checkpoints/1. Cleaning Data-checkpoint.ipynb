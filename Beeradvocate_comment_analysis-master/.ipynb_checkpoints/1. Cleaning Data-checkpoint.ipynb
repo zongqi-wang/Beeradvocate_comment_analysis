{
 "cells": [
  {
   "cell_type": "code",
   "execution_count": 2,
   "metadata": {},
   "outputs": [],
   "source": [
    "import pandas as pd\n",
    "import numpy as np"
   ]
  },
  {
   "cell_type": "markdown",
   "metadata": {},
   "source": [
    "# Loading Data"
   ]
  },
  {
   "cell_type": "code",
   "execution_count": 5,
   "metadata": {},
   "outputs": [
    {
     "data": {
      "text/html": [
       "<div>\n",
       "<style scoped>\n",
       "    .dataframe tbody tr th:only-of-type {\n",
       "        vertical-align: middle;\n",
       "    }\n",
       "\n",
       "    .dataframe tbody tr th {\n",
       "        vertical-align: top;\n",
       "    }\n",
       "\n",
       "    .dataframe thead th {\n",
       "        text-align: right;\n",
       "    }\n",
       "</style>\n",
       "<table border=\"1\" class=\"dataframe\">\n",
       "  <thead>\n",
       "    <tr style=\"text-align: right;\">\n",
       "      <th></th>\n",
       "      <th>beer_ratings</th>\n",
       "      <th>beer_reviews</th>\n",
       "      <th>beer_score</th>\n",
       "      <th>beers</th>\n",
       "      <th>brewery_name</th>\n",
       "      <th>brewery_number</th>\n",
       "      <th>brewery_pdev</th>\n",
       "      <th>brewery_ratings</th>\n",
       "      <th>brewery_review</th>\n",
       "      <th>brewery_score</th>\n",
       "      <th>city</th>\n",
       "      <th>country</th>\n",
       "      <th>province</th>\n",
       "    </tr>\n",
       "  </thead>\n",
       "  <tbody>\n",
       "    <tr>\n",
       "      <th>0</th>\n",
       "      <td>8</td>\n",
       "      <td>3</td>\n",
       "      <td>3.39</td>\n",
       "      <td>6</td>\n",
       "      <td>'A Magara</td>\n",
       "      <td>40282</td>\n",
       "      <td>NaN</td>\n",
       "      <td>NaN</td>\n",
       "      <td>NaN</td>\n",
       "      <td>NaN</td>\n",
       "      <td>Nocera Terinese</td>\n",
       "      <td>Italy</td>\n",
       "      <td>NaN</td>\n",
       "    </tr>\n",
       "    <tr>\n",
       "      <th>1</th>\n",
       "      <td>2,969</td>\n",
       "      <td>517</td>\n",
       "      <td>3.84</td>\n",
       "      <td>48</td>\n",
       "      <td>(512) Brewing Company</td>\n",
       "      <td>17863</td>\n",
       "      <td>0%</td>\n",
       "      <td>2</td>\n",
       "      <td>0.0</td>\n",
       "      <td>4.02/5</td>\n",
       "      <td>Austin</td>\n",
       "      <td>United States</td>\n",
       "      <td>Texas</td>\n",
       "    </tr>\n",
       "    <tr>\n",
       "      <th>2</th>\n",
       "      <td>176</td>\n",
       "      <td>74</td>\n",
       "      <td>3.65</td>\n",
       "      <td>19</td>\n",
       "      <td>'t Hofbrouwerijke</td>\n",
       "      <td>13160</td>\n",
       "      <td>NaN</td>\n",
       "      <td>NaN</td>\n",
       "      <td>NaN</td>\n",
       "      <td>NaN</td>\n",
       "      <td>Beerzel</td>\n",
       "      <td>Belgium</td>\n",
       "      <td>NaN</td>\n",
       "    </tr>\n",
       "    <tr>\n",
       "      <th>3</th>\n",
       "      <td>1</td>\n",
       "      <td>1</td>\n",
       "      <td>3.30</td>\n",
       "      <td>1</td>\n",
       "      <td>0,5 Pub</td>\n",
       "      <td>53883</td>\n",
       "      <td>0%</td>\n",
       "      <td>0</td>\n",
       "      <td>0.0</td>\n",
       "      <td>0/5</td>\n",
       "      <td>Cahul</td>\n",
       "      <td>Moldova</td>\n",
       "      <td>NaN</td>\n",
       "    </tr>\n",
       "    <tr>\n",
       "      <th>4</th>\n",
       "      <td>1</td>\n",
       "      <td>0</td>\n",
       "      <td>4.72</td>\n",
       "      <td>5</td>\n",
       "      <td>0 Mile Brewing Company</td>\n",
       "      <td>42171</td>\n",
       "      <td>NaN</td>\n",
       "      <td>NaN</td>\n",
       "      <td>NaN</td>\n",
       "      <td>NaN</td>\n",
       "      <td>Hummelstown</td>\n",
       "      <td>United States</td>\n",
       "      <td>Pennsylvania</td>\n",
       "    </tr>\n",
       "  </tbody>\n",
       "</table>\n",
       "</div>"
      ],
      "text/plain": [
       "  beer_ratings beer_reviews  beer_score  beers            brewery_name  \\\n",
       "0            8            3        3.39      6               'A Magara   \n",
       "1        2,969          517        3.84     48   (512) Brewing Company   \n",
       "2          176           74        3.65     19       't Hofbrouwerijke   \n",
       "3            1            1        3.30      1                 0,5 Pub   \n",
       "4            1            0        4.72      5  0 Mile Brewing Company   \n",
       "\n",
       "   brewery_number brewery_pdev brewery_ratings  brewery_review brewery_score  \\\n",
       "0           40282          NaN             NaN             NaN           NaN   \n",
       "1           17863          0%                2             0.0        4.02/5   \n",
       "2           13160          NaN             NaN             NaN           NaN   \n",
       "3           53883          0%                0             0.0           0/5   \n",
       "4           42171          NaN             NaN             NaN           NaN   \n",
       "\n",
       "              city        country      province  \n",
       "0  Nocera Terinese          Italy           NaN  \n",
       "1           Austin  United States         Texas  \n",
       "2          Beerzel        Belgium           NaN  \n",
       "3            Cahul        Moldova           NaN  \n",
       "4      Hummelstown  United States  Pennsylvania  "
      ]
     },
     "execution_count": 5,
     "metadata": {},
     "output_type": "execute_result"
    }
   ],
   "source": [
    "brew = pd.read_csv('data/breweryinfo.csv')\n",
    "brew.head()"
   ]
  },
  {
   "cell_type": "code",
   "execution_count": 15,
   "metadata": {},
   "outputs": [
    {
     "ename": "SyntaxError",
     "evalue": "invalid syntax (<ipython-input-15-d815431c055a>, line 1)",
     "output_type": "error",
     "traceback": [
      "\u001b[1;36m  File \u001b[1;32m\"<ipython-input-15-d815431c055a>\"\u001b[1;36m, line \u001b[1;32m1\u001b[0m\n\u001b[1;33m    beer = pd.read_csv('data/beerinfo.csv', dtype = ()'brewery_number':int))\u001b[0m\n\u001b[1;37m                                                                     ^\u001b[0m\n\u001b[1;31mSyntaxError\u001b[0m\u001b[1;31m:\u001b[0m invalid syntax\n"
     ]
    }
   ],
   "source": [
    "beer = pd.read_csv('data/beerinfo.csv', dtype = ('brewery_number':int))\n",
    "beer.head()"
   ]
  },
  {
   "cell_type": "code",
   "execution_count": 11,
   "metadata": {},
   "outputs": [
    {
     "data": {
      "text/plain": [
       "dtype('O')"
      ]
     },
     "execution_count": 11,
     "metadata": {},
     "output_type": "execute_result"
    }
   ],
   "source": []
  }
 ],
 "metadata": {
  "celltoolbar": "Raw Cell Format",
  "kernelspec": {
   "display_name": "Python 3",
   "language": "python",
   "name": "python3"
  },
  "language_info": {
   "codemirror_mode": {
    "name": "ipython",
    "version": 3
   },
   "file_extension": ".py",
   "mimetype": "text/x-python",
   "name": "python",
   "nbconvert_exporter": "python",
   "pygments_lexer": "ipython3",
   "version": "3.7.1"
  }
 },
 "nbformat": 4,
 "nbformat_minor": 2
}
