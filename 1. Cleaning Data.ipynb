{
 "cells": [
  {
   "cell_type": "code",
   "execution_count": 1,
   "metadata": {},
   "outputs": [],
   "source": [
    "import pandas as pd\n",
    "import numpy as np"
   ]
  },
  {
   "cell_type": "markdown",
   "metadata": {},
   "source": [
    "# Loading Data"
   ]
  },
  {
   "cell_type": "code",
   "execution_count": 2,
   "metadata": {},
   "outputs": [
    {
     "data": {
      "text/html": [
       "<div>\n",
       "<style scoped>\n",
       "    .dataframe tbody tr th:only-of-type {\n",
       "        vertical-align: middle;\n",
       "    }\n",
       "\n",
       "    .dataframe tbody tr th {\n",
       "        vertical-align: top;\n",
       "    }\n",
       "\n",
       "    .dataframe thead th {\n",
       "        text-align: right;\n",
       "    }\n",
       "</style>\n",
       "<table border=\"1\" class=\"dataframe\">\n",
       "  <thead>\n",
       "    <tr style=\"text-align: right;\">\n",
       "      <th></th>\n",
       "      <th>beer_ratings</th>\n",
       "      <th>beer_reviews</th>\n",
       "      <th>beer_score</th>\n",
       "      <th>beers</th>\n",
       "      <th>brewery_name</th>\n",
       "      <th>brewery_number</th>\n",
       "      <th>brewery_pdev</th>\n",
       "      <th>brewery_ratings</th>\n",
       "      <th>brewery_review</th>\n",
       "      <th>brewery_score</th>\n",
       "      <th>city</th>\n",
       "      <th>country</th>\n",
       "      <th>province</th>\n",
       "    </tr>\n",
       "  </thead>\n",
       "  <tbody>\n",
       "    <tr>\n",
       "      <th>0</th>\n",
       "      <td>8</td>\n",
       "      <td>3</td>\n",
       "      <td>3.39</td>\n",
       "      <td>6</td>\n",
       "      <td>'A Magara</td>\n",
       "      <td>40282</td>\n",
       "      <td>NaN</td>\n",
       "      <td>NaN</td>\n",
       "      <td>NaN</td>\n",
       "      <td>NaN</td>\n",
       "      <td>Nocera Terinese</td>\n",
       "      <td>Italy</td>\n",
       "      <td>NaN</td>\n",
       "    </tr>\n",
       "    <tr>\n",
       "      <th>1</th>\n",
       "      <td>2,969</td>\n",
       "      <td>517</td>\n",
       "      <td>3.84</td>\n",
       "      <td>48</td>\n",
       "      <td>(512) Brewing Company</td>\n",
       "      <td>17863</td>\n",
       "      <td>0%</td>\n",
       "      <td>2</td>\n",
       "      <td>0.0</td>\n",
       "      <td>4.02/5</td>\n",
       "      <td>Austin</td>\n",
       "      <td>United States</td>\n",
       "      <td>Texas</td>\n",
       "    </tr>\n",
       "    <tr>\n",
       "      <th>2</th>\n",
       "      <td>176</td>\n",
       "      <td>74</td>\n",
       "      <td>3.65</td>\n",
       "      <td>19</td>\n",
       "      <td>'t Hofbrouwerijke</td>\n",
       "      <td>13160</td>\n",
       "      <td>NaN</td>\n",
       "      <td>NaN</td>\n",
       "      <td>NaN</td>\n",
       "      <td>NaN</td>\n",
       "      <td>Beerzel</td>\n",
       "      <td>Belgium</td>\n",
       "      <td>NaN</td>\n",
       "    </tr>\n",
       "    <tr>\n",
       "      <th>3</th>\n",
       "      <td>1</td>\n",
       "      <td>1</td>\n",
       "      <td>3.30</td>\n",
       "      <td>1</td>\n",
       "      <td>0,5 Pub</td>\n",
       "      <td>53883</td>\n",
       "      <td>0%</td>\n",
       "      <td>0</td>\n",
       "      <td>0.0</td>\n",
       "      <td>0/5</td>\n",
       "      <td>Cahul</td>\n",
       "      <td>Moldova</td>\n",
       "      <td>NaN</td>\n",
       "    </tr>\n",
       "    <tr>\n",
       "      <th>4</th>\n",
       "      <td>1</td>\n",
       "      <td>0</td>\n",
       "      <td>4.72</td>\n",
       "      <td>5</td>\n",
       "      <td>0 Mile Brewing Company</td>\n",
       "      <td>42171</td>\n",
       "      <td>NaN</td>\n",
       "      <td>NaN</td>\n",
       "      <td>NaN</td>\n",
       "      <td>NaN</td>\n",
       "      <td>Hummelstown</td>\n",
       "      <td>United States</td>\n",
       "      <td>Pennsylvania</td>\n",
       "    </tr>\n",
       "  </tbody>\n",
       "</table>\n",
       "</div>"
      ],
      "text/plain": [
       "  beer_ratings beer_reviews  beer_score  beers            brewery_name  \\\n",
       "0            8            3        3.39      6               'A Magara   \n",
       "1        2,969          517        3.84     48   (512) Brewing Company   \n",
       "2          176           74        3.65     19       't Hofbrouwerijke   \n",
       "3            1            1        3.30      1                 0,5 Pub   \n",
       "4            1            0        4.72      5  0 Mile Brewing Company   \n",
       "\n",
       "   brewery_number brewery_pdev brewery_ratings  brewery_review brewery_score  \\\n",
       "0           40282          NaN             NaN             NaN           NaN   \n",
       "1           17863          0%                2             0.0        4.02/5   \n",
       "2           13160          NaN             NaN             NaN           NaN   \n",
       "3           53883          0%                0             0.0           0/5   \n",
       "4           42171          NaN             NaN             NaN           NaN   \n",
       "\n",
       "              city        country      province  \n",
       "0  Nocera Terinese          Italy           NaN  \n",
       "1           Austin  United States         Texas  \n",
       "2          Beerzel        Belgium           NaN  \n",
       "3            Cahul        Moldova           NaN  \n",
       "4      Hummelstown  United States  Pennsylvania  "
      ]
     },
     "execution_count": 2,
     "metadata": {},
     "output_type": "execute_result"
    }
   ],
   "source": [
    "brew = pd.read_csv('data/breweryinfo.csv')\n",
    "brew.head()"
   ]
  },
  {
   "cell_type": "code",
   "execution_count": 3,
   "metadata": {},
   "outputs": [
    {
     "name": "stderr",
     "output_type": "stream",
     "text": [
      "C:\\Users\\wangz\\Anaconda3\\lib\\site-packages\\IPython\\core\\interactiveshell.py:3020: DtypeWarning: Columns (6) have mixed types. Specify dtype option on import or set low_memory=False.\n",
      "  interactivity=interactivity, compiler=compiler, result=result)\n"
     ]
    },
    {
     "data": {
      "text/html": [
       "<div>\n",
       "<style scoped>\n",
       "    .dataframe tbody tr th:only-of-type {\n",
       "        vertical-align: middle;\n",
       "    }\n",
       "\n",
       "    .dataframe tbody tr th {\n",
       "        vertical-align: top;\n",
       "    }\n",
       "\n",
       "    .dataframe thead th {\n",
       "        text-align: right;\n",
       "    }\n",
       "</style>\n",
       "<table border=\"1\" class=\"dataframe\">\n",
       "  <thead>\n",
       "    <tr style=\"text-align: right;\">\n",
       "      <th></th>\n",
       "      <th>abv</th>\n",
       "      <th>availability</th>\n",
       "      <th>ba_score</th>\n",
       "      <th>beer_name</th>\n",
       "      <th>beer_number</th>\n",
       "      <th>brewery_name</th>\n",
       "      <th>brewery_number</th>\n",
       "      <th>notes</th>\n",
       "      <th>pdev</th>\n",
       "      <th>ranking</th>\n",
       "      <th>ratings</th>\n",
       "      <th>reviews</th>\n",
       "      <th>style</th>\n",
       "    </tr>\n",
       "  </thead>\n",
       "  <tbody>\n",
       "    <tr>\n",
       "      <th>0</th>\n",
       "      <td>NaN</td>\n",
       "      <td>NaN</td>\n",
       "      <td>0.00</td>\n",
       "      <td>Trilla</td>\n",
       "      <td>172737</td>\n",
       "      <td>'A Magara</td>\n",
       "      <td>40282</td>\n",
       "      <td>NaN</td>\n",
       "      <td>0%</td>\n",
       "      <td>-</td>\n",
       "      <td>0</td>\n",
       "      <td>0</td>\n",
       "      <td>German Hefeweizen</td>\n",
       "    </tr>\n",
       "    <tr>\n",
       "      <th>1</th>\n",
       "      <td>NaN</td>\n",
       "      <td>NaN</td>\n",
       "      <td>4.14</td>\n",
       "      <td>Trupija</td>\n",
       "      <td>172735</td>\n",
       "      <td>'A Magara</td>\n",
       "      <td>40282</td>\n",
       "      <td>NaN</td>\n",
       "      <td>0%</td>\n",
       "      <td>-</td>\n",
       "      <td>1</td>\n",
       "      <td>0</td>\n",
       "      <td>Belgian Saison</td>\n",
       "    </tr>\n",
       "    <tr>\n",
       "      <th>2</th>\n",
       "      <td>NaN</td>\n",
       "      <td>NaN</td>\n",
       "      <td>2.80</td>\n",
       "      <td>Riulì</td>\n",
       "      <td>273357</td>\n",
       "      <td>'A Magara</td>\n",
       "      <td>40282</td>\n",
       "      <td>NaN</td>\n",
       "      <td>0%</td>\n",
       "      <td>-</td>\n",
       "      <td>2</td>\n",
       "      <td>1</td>\n",
       "      <td>American Pale Ale (APA)</td>\n",
       "    </tr>\n",
       "    <tr>\n",
       "      <th>3</th>\n",
       "      <td>NaN</td>\n",
       "      <td>NaN</td>\n",
       "      <td>3.57</td>\n",
       "      <td>Mericana</td>\n",
       "      <td>318408</td>\n",
       "      <td>'A Magara</td>\n",
       "      <td>40282</td>\n",
       "      <td>NaN</td>\n",
       "      <td>0%</td>\n",
       "      <td>-</td>\n",
       "      <td>1</td>\n",
       "      <td>0</td>\n",
       "      <td>American IPA</td>\n",
       "    </tr>\n",
       "    <tr>\n",
       "      <th>4</th>\n",
       "      <td>NaN</td>\n",
       "      <td>NaN</td>\n",
       "      <td>3.41</td>\n",
       "      <td>Magarìa</td>\n",
       "      <td>249754</td>\n",
       "      <td>'A Magara</td>\n",
       "      <td>40282</td>\n",
       "      <td>NaN</td>\n",
       "      <td>0%</td>\n",
       "      <td>-</td>\n",
       "      <td>2</td>\n",
       "      <td>1</td>\n",
       "      <td>American Porter</td>\n",
       "    </tr>\n",
       "  </tbody>\n",
       "</table>\n",
       "</div>"
      ],
      "text/plain": [
       "   abv  availability  ba_score beer_name beer_number brewery_name  \\\n",
       "0  NaN           NaN      0.00    Trilla      172737    'A Magara   \n",
       "1  NaN           NaN      4.14   Trupija      172735    'A Magara   \n",
       "2  NaN           NaN      2.80     Riulì      273357    'A Magara   \n",
       "3  NaN           NaN      3.57  Mericana      318408    'A Magara   \n",
       "4  NaN           NaN      3.41   Magarìa      249754    'A Magara   \n",
       "\n",
       "  brewery_number  notes pdev ranking ratings reviews                    style  \n",
       "0          40282    NaN  0%        -       0       0        German Hefeweizen  \n",
       "1          40282    NaN  0%        -       1       0           Belgian Saison  \n",
       "2          40282    NaN  0%        -       2       1  American Pale Ale (APA)  \n",
       "3          40282    NaN  0%        -       1       0             American IPA  \n",
       "4          40282    NaN  0%        -       2       1          American Porter  "
      ]
     },
     "execution_count": 3,
     "metadata": {},
     "output_type": "execute_result"
    }
   ],
   "source": [
    "beer = pd.read_csv('data/beerinfo.csv')\n",
    "beer.head()"
   ]
  },
  {
   "cell_type": "markdown",
   "metadata": {},
   "source": [
    "Reading the beer csv file prompted an error on two beers that were not parsed by the spider properly. The first one is [Weird Beard / Farmageddon Suspect Device](https://www.beeradvocate.com/beer/profile/31624/228703/) and the second one is [Interboro / Pipeworks - Mad Fat! Unicorn](https://www.beeradvocate.com/beer/profile/44293/272459/). I have no idea the scraper failed on those two, but we have to move on with our lives. We have to remove those entries. "
   ]
  },
  {
   "cell_type": "code",
   "execution_count": 4,
   "metadata": {},
   "outputs": [
    {
     "data": {
      "text/plain": [
       "(274223, 13)"
      ]
     },
     "execution_count": 4,
     "metadata": {},
     "output_type": "execute_result"
    }
   ],
   "source": [
    "beer = beer[pd.to_numeric(beer['brewery_number'], errors='coerce').notnull()]\n",
    "beer['brewery_number'] = pd.to_numeric(beer['brewery_number'])\n",
    "beer.shape"
   ]
  },
  {
   "cell_type": "code",
   "execution_count": 5,
   "metadata": {},
   "outputs": [
    {
     "name": "stderr",
     "output_type": "stream",
     "text": [
      "C:\\Users\\wangz\\Anaconda3\\lib\\site-packages\\IPython\\core\\interactiveshell.py:3020: DtypeWarning: Columns (1) have mixed types. Specify dtype option on import or set low_memory=False.\n",
      "  interactivity=interactivity, compiler=compiler, result=result)\n"
     ]
    }
   ],
   "source": [
    "comments = pd.read_csv('data/comment.csv')"
   ]
  },
  {
   "cell_type": "code",
   "execution_count": 6,
   "metadata": {},
   "outputs": [
    {
     "data": {
      "text/html": [
       "<div>\n",
       "<style scoped>\n",
       "    .dataframe tbody tr th:only-of-type {\n",
       "        vertical-align: middle;\n",
       "    }\n",
       "\n",
       "    .dataframe tbody tr th {\n",
       "        vertical-align: top;\n",
       "    }\n",
       "\n",
       "    .dataframe thead th {\n",
       "        text-align: right;\n",
       "    }\n",
       "</style>\n",
       "<table border=\"1\" class=\"dataframe\">\n",
       "  <thead>\n",
       "    <tr style=\"text-align: right;\">\n",
       "      <th></th>\n",
       "      <th>ba_score</th>\n",
       "      <th>beer_number</th>\n",
       "      <th>comment</th>\n",
       "      <th>date</th>\n",
       "      <th>feel</th>\n",
       "      <th>look</th>\n",
       "      <th>overall</th>\n",
       "      <th>rdev</th>\n",
       "      <th>smell</th>\n",
       "      <th>taste</th>\n",
       "      <th>username</th>\n",
       "    </tr>\n",
       "  </thead>\n",
       "  <tbody>\n",
       "    <tr>\n",
       "      <th>0</th>\n",
       "      <td>4.14</td>\n",
       "      <td>172735</td>\n",
       "      <td>NaN</td>\n",
       "      <td>Dec 24, 2017</td>\n",
       "      <td>NaN</td>\n",
       "      <td>NaN</td>\n",
       "      <td>NaN</td>\n",
       "      <td>NaN</td>\n",
       "      <td>NaN</td>\n",
       "      <td>NaN</td>\n",
       "      <td>Nattesferd</td>\n",
       "    </tr>\n",
       "    <tr>\n",
       "      <th>1</th>\n",
       "      <td>2.83</td>\n",
       "      <td>273357</td>\n",
       "      <td>Dark amber, very hazy, with some small pieces ...</td>\n",
       "      <td>Mar 22, 2017</td>\n",
       "      <td>NaN</td>\n",
       "      <td>NaN</td>\n",
       "      <td>NaN</td>\n",
       "      <td>NaN</td>\n",
       "      <td>NaN</td>\n",
       "      <td>NaN</td>\n",
       "      <td>stcules</td>\n",
       "    </tr>\n",
       "    <tr>\n",
       "      <th>2</th>\n",
       "      <td>3.57</td>\n",
       "      <td>318408</td>\n",
       "      <td>NaN</td>\n",
       "      <td>Dec 24, 2017</td>\n",
       "      <td>NaN</td>\n",
       "      <td>NaN</td>\n",
       "      <td>NaN</td>\n",
       "      <td>NaN</td>\n",
       "      <td>NaN</td>\n",
       "      <td>NaN</td>\n",
       "      <td>Nattesferd</td>\n",
       "    </tr>\n",
       "    <tr>\n",
       "      <th>3</th>\n",
       "      <td>3.02</td>\n",
       "      <td>249754</td>\n",
       "      <td>Black, light brown foam.&lt;br&gt;\\nIn the smell coc...</td>\n",
       "      <td>Sep 21, 2016</td>\n",
       "      <td>NaN</td>\n",
       "      <td>NaN</td>\n",
       "      <td>NaN</td>\n",
       "      <td>NaN</td>\n",
       "      <td>NaN</td>\n",
       "      <td>NaN</td>\n",
       "      <td>stcules</td>\n",
       "    </tr>\n",
       "    <tr>\n",
       "      <th>4</th>\n",
       "      <td>3.55</td>\n",
       "      <td>380750</td>\n",
       "      <td>NaN</td>\n",
       "      <td>Nov 12, 2018</td>\n",
       "      <td>NaN</td>\n",
       "      <td>NaN</td>\n",
       "      <td>NaN</td>\n",
       "      <td>NaN</td>\n",
       "      <td>NaN</td>\n",
       "      <td>NaN</td>\n",
       "      <td>desint</td>\n",
       "    </tr>\n",
       "  </tbody>\n",
       "</table>\n",
       "</div>"
      ],
      "text/plain": [
       "   ba_score beer_number                                            comment  \\\n",
       "0      4.14      172735                                                NaN   \n",
       "1      2.83      273357  Dark amber, very hazy, with some small pieces ...   \n",
       "2      3.57      318408                                                NaN   \n",
       "3      3.02      249754  Black, light brown foam.<br>\\nIn the smell coc...   \n",
       "4      3.55      380750                                                NaN   \n",
       "\n",
       "           date  feel  look  overall rdev  smell  taste    username  \n",
       "0  Dec 24, 2017   NaN   NaN      NaN  NaN    NaN    NaN  Nattesferd  \n",
       "1  Mar 22, 2017   NaN   NaN      NaN  NaN    NaN    NaN     stcules  \n",
       "2  Dec 24, 2017   NaN   NaN      NaN  NaN    NaN    NaN  Nattesferd  \n",
       "3  Sep 21, 2016   NaN   NaN      NaN  NaN    NaN    NaN     stcules  \n",
       "4  Nov 12, 2018   NaN   NaN      NaN  NaN    NaN    NaN      desint  "
      ]
     },
     "execution_count": 6,
     "metadata": {},
     "output_type": "execute_result"
    }
   ],
   "source": [
    "comments.head()"
   ]
  },
  {
   "cell_type": "code",
   "execution_count": 7,
   "metadata": {},
   "outputs": [
    {
     "data": {
      "text/plain": [
       "(2422484, 11)"
      ]
     },
     "execution_count": 7,
     "metadata": {},
     "output_type": "execute_result"
    }
   ],
   "source": [
    "comments.shape"
   ]
  },
  {
   "cell_type": "markdown",
   "metadata": {},
   "source": [
    "Similarly, we'd have to remove comment entries for those two beers"
   ]
  },
  {
   "cell_type": "code",
   "execution_count": 8,
   "metadata": {},
   "outputs": [],
   "source": [
    "comments = comments[pd.to_numeric(comments['beer_number'], errors='coerce').notnull()]\n",
    "comments['beer_number'] = pd.to_numeric(comments['beer_number'])"
   ]
  },
  {
   "cell_type": "code",
   "execution_count": 9,
   "metadata": {},
   "outputs": [
    {
     "data": {
      "text/plain": [
       "(2422451, 11)"
      ]
     },
     "execution_count": 9,
     "metadata": {},
     "output_type": "execute_result"
    }
   ],
   "source": [
    "comments.shape"
   ]
  },
  {
   "cell_type": "code",
   "execution_count": 10,
   "metadata": {},
   "outputs": [],
   "source": [
    "beer = beer[pd.to_numeric(beer['beer_number'], errors='coerce').notnull()]\n",
    "beer['beer_number'] = pd.to_numeric(beer['beer_number'])\n"
   ]
  },
  {
   "cell_type": "markdown",
   "metadata": {},
   "source": [
    "## Taking a look at comment data"
   ]
  },
  {
   "cell_type": "code",
   "execution_count": 12,
   "metadata": {},
   "outputs": [
    {
     "data": {
      "text/plain": [
       "0                                                  NaN\n",
       "1    Dark amber, very hazy, with some small pieces ...\n",
       "2                                                  NaN\n",
       "3    Black, light brown foam.<br>\\nIn the smell coc...\n",
       "4                                                  NaN\n",
       "Name: comment, dtype: object"
      ]
     },
     "execution_count": 12,
     "metadata": {},
     "output_type": "execute_result"
    }
   ],
   "source": [
    "comments['comment'].head()"
   ]
  },
  {
   "cell_type": "markdown",
   "metadata": {},
   "source": [
    "#### There are evidently still some html tags left in the comments. We shell remove that"
   ]
  },
  {
   "cell_type": "code",
   "execution_count": 17,
   "metadata": {},
   "outputs": [],
   "source": [
    "comments['comment'] = comments['comment'].str.replace('<br>\\n',' ')"
   ]
  },
  {
   "cell_type": "markdown",
   "metadata": {},
   "source": [
    "## Subsetting data to Canadian only"
   ]
  },
  {
   "cell_type": "code",
   "execution_count": null,
   "metadata": {},
   "outputs": [],
   "source": []
  }
 ],
 "metadata": {
  "celltoolbar": "Raw Cell Format",
  "kernelspec": {
   "display_name": "Python 3",
   "language": "python",
   "name": "python3"
  },
  "language_info": {
   "codemirror_mode": {
    "name": "ipython",
    "version": 3
   },
   "file_extension": ".py",
   "mimetype": "text/x-python",
   "name": "python",
   "nbconvert_exporter": "python",
   "pygments_lexer": "ipython3",
   "version": "3.7.1"
  }
 },
 "nbformat": 4,
 "nbformat_minor": 2
}
