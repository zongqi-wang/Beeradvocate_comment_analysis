{
 "cells": [
  {
   "cell_type": "code",
   "execution_count": 38,
   "metadata": {},
   "outputs": [],
   "source": [
    "import pandas as pd\n",
    "brew = pd.read_csv(\"../data/CanadianBreweries.csv\")\n",
    "beer = pd.read_csv(\"../data/CanadianBeers.csv\")\n",
    "reviews = pd.read_csv(\"../data/CanadianReviews.csv\")"
   ]
  },
  {
   "cell_type": "markdown",
   "metadata": {},
   "source": [
    "#### Seperating the comment data"
   ]
  },
  {
   "cell_type": "code",
   "execution_count": 9,
   "metadata": {},
   "outputs": [
    {
     "data": {
      "text/plain": [
       "0    NaN\n",
       "1    NaN\n",
       "2    NaN\n",
       "3    NaN\n",
       "4    NaN\n",
       "Name: comment, dtype: object"
      ]
     },
     "execution_count": 9,
     "metadata": {},
     "output_type": "execute_result"
    }
   ],
   "source": [
    "comments = reviews['comment']\n",
    "comments.head()"
   ]
  },
  {
   "cell_type": "markdown",
   "metadata": {},
   "source": [
    "#### Getting rid of NA"
   ]
  },
  {
   "cell_type": "code",
   "execution_count": 10,
   "metadata": {},
   "outputs": [
    {
     "data": {
      "text/plain": [
       "9     On tap at Birch &amp; Barley.    Hazy yellow i...\n",
       "10    Received a mason jar of this from a friend. Wa...\n",
       "11    Had this twice, in two different retaurants, o...\n",
       "12    On tap at the brewery tap room    A - A lovely...\n",
       "13    Slightly hazy copper color with a low amount o...\n",
       "Name: comment, dtype: object"
      ]
     },
     "execution_count": 10,
     "metadata": {},
     "output_type": "execute_result"
    }
   ],
   "source": [
    "comments = comments.dropna()\n",
    "comments.head()"
   ]
  },
  {
   "cell_type": "markdown",
   "metadata": {},
   "source": [
    "#### Importing tools"
   ]
  },
  {
   "cell_type": "code",
   "execution_count": 6,
   "metadata": {},
   "outputs": [
    {
     "name": "stderr",
     "output_type": "stream",
     "text": [
      "[nltk_data] Downloading package wordnet to\n",
      "[nltk_data]     C:\\Users\\wangz\\AppData\\Roaming\\nltk_data...\n",
      "[nltk_data]   Unzipping corpora\\wordnet.zip.\n"
     ]
    },
    {
     "data": {
      "text/plain": [
       "True"
      ]
     },
     "execution_count": 6,
     "metadata": {},
     "output_type": "execute_result"
    }
   ],
   "source": [
    "import gensim\n",
    "from gensim.utils import simple_preprocess\n",
    "from gensim.parsing.preprocessing import STOPWORDS\n",
    "from nltk.stem import WordNetLemmatizer, SnowballStemmer\n",
    "from nltk.stem.porter import *\n",
    "import numpy as np\n",
    "import nltk\n",
    "nltk.download('wordnet')"
   ]
  },
  {
   "cell_type": "markdown",
   "metadata": {},
   "source": [
    "#### Word Processing"
   ]
  },
  {
   "cell_type": "markdown",
   "metadata": {},
   "source": [
    "We need to process the data for topic modelling, which includes splitting sentences into words, removing punctuation, lowercasing the words, removing stopwords, lemmatizing words, removing stop word, and stemming the words"
   ]
  },
  {
   "cell_type": "markdown",
   "metadata": {},
   "source": [
    "Lemmatizing means changing the word to first person form and present form.\n",
    "Stemming means reducing words to their root form."
   ]
  },
  {
   "cell_type": "code",
   "execution_count": 7,
   "metadata": {},
   "outputs": [],
   "source": [
    "stemmer = SnowballStemmer('english')\n",
    "def lemmatize_stemming(text):\n",
    "    return stemmer.stem(WordNetLemmatizer().lemmatize(text, pos='v'))\n",
    "\n",
    "def preprocess(text):\n",
    "    result = []\n",
    "    for token in gensim.utils.simple_preprocess(text):\n",
    "        if token not in gensim.parsing.preprocessing.STOPWORDS and len(token) > 3:\n",
    "            result.append(lemmatize_stemming(token))\n",
    "    return result"
   ]
  },
  {
   "cell_type": "markdown",
   "metadata": {},
   "source": [
    "Cheking the function"
   ]
  },
  {
   "cell_type": "code",
   "execution_count": 17,
   "metadata": {},
   "outputs": [
    {
     "data": {
      "text/plain": [
       "'On tap at Birch &amp; Barley.    Hazy yellow in color with a one finger white head.    The aroma is wheaty with citrus and big spiced and floral notes. Good if bordering on a bit much.    The flavor is heavily spiced: lavender, sage, coriander, and others. Wheat, lemon, and honey besides that. Decently tasty.    Medium-light bodied and fairly tingly from the spices with average carbonation.    A successful experiment I think, if a bit overdone in some ways.        '"
      ]
     },
     "execution_count": 17,
     "metadata": {},
     "output_type": "execute_result"
    }
   ],
   "source": [
    "sample = comments.iloc[0]\n",
    "sample"
   ]
  },
  {
   "cell_type": "code",
   "execution_count": 18,
   "metadata": {},
   "outputs": [
    {
     "data": {
      "text/plain": [
       "['birch',\n",
       " 'barley',\n",
       " 'hazi',\n",
       " 'yellow',\n",
       " 'color',\n",
       " 'finger',\n",
       " 'white',\n",
       " 'head',\n",
       " 'aroma',\n",
       " 'wheati',\n",
       " 'citrus',\n",
       " 'spice',\n",
       " 'floral',\n",
       " 'note',\n",
       " 'good',\n",
       " 'border',\n",
       " 'flavor',\n",
       " 'heavili',\n",
       " 'spice',\n",
       " 'lavend',\n",
       " 'sage',\n",
       " 'coriand',\n",
       " 'wheat',\n",
       " 'lemon',\n",
       " 'honey',\n",
       " 'decent',\n",
       " 'tasti',\n",
       " 'medium',\n",
       " 'light',\n",
       " 'bodi',\n",
       " 'fair',\n",
       " 'ting',\n",
       " 'spice',\n",
       " 'averag',\n",
       " 'carbon',\n",
       " 'success',\n",
       " 'experi',\n",
       " 'think',\n",
       " 'overdo',\n",
       " 'way']"
      ]
     },
     "execution_count": 18,
     "metadata": {},
     "output_type": "execute_result"
    }
   ],
   "source": [
    "preprocess(sample)"
   ]
  },
  {
   "cell_type": "markdown",
   "metadata": {},
   "source": [
    "#### Now is the time to process all comments. Warning: this step takes a while"
   ]
  },
  {
   "cell_type": "code",
   "execution_count": 19,
   "metadata": {},
   "outputs": [],
   "source": [
    "processed_doc = comments.apply(preprocess)"
   ]
  },
  {
   "cell_type": "code",
   "execution_count": 20,
   "metadata": {},
   "outputs": [
    {
     "data": {
      "text/plain": [
       "9     [birch, barley, hazi, yellow, color, finger, w...\n",
       "10    [receiv, mason, friend, tell, pour, drink, clo...\n",
       "11    [twice, differ, retaur, recent, trip, ïles, ma...\n",
       "12    [breweri, room, love, cloudi, light, golden, y...\n",
       "13    [slight, hazi, copper, color, activ, beig, fin...\n",
       "Name: comment, dtype: object"
      ]
     },
     "execution_count": 20,
     "metadata": {},
     "output_type": "execute_result"
    }
   ],
   "source": [
    "processed_doc.head()"
   ]
  },
  {
   "cell_type": "markdown",
   "metadata": {},
   "source": [
    "#### Build a dictionary from the corpus, and remove common words that are in over 50% of the comments, and remove those that appear less than 15 times"
   ]
  },
  {
   "cell_type": "code",
   "execution_count": 21,
   "metadata": {},
   "outputs": [],
   "source": [
    "dictionary = gensim.corpora.Dictionary(processed_doc)"
   ]
  },
  {
   "cell_type": "code",
   "execution_count": 24,
   "metadata": {},
   "outputs": [],
   "source": [
    "dictionary.filter_extremes(no_below=10, no_above=0.35, keep_n=100000)"
   ]
  },
  {
   "cell_type": "markdown",
   "metadata": {},
   "source": [
    "#### Saving the corpus into a bag of words (BoW) format"
   ]
  },
  {
   "cell_type": "code",
   "execution_count": 25,
   "metadata": {},
   "outputs": [],
   "source": [
    "bow_corpus = [dictionary.doc2bow(doc) for doc in processed_doc]"
   ]
  },
  {
   "cell_type": "markdown",
   "metadata": {},
   "source": [
    "#### Running LDA using Bow with 8 threads"
   ]
  },
  {
   "cell_type": "code",
   "execution_count": 30,
   "metadata": {},
   "outputs": [],
   "source": [
    "lda_model_10 = gensim.models.LdaMulticore(bow_corpus, num_topics=10, id2word=dictionary, passes=2, workers=7)"
   ]
  },
  {
   "cell_type": "code",
   "execution_count": 31,
   "metadata": {},
   "outputs": [
    {
     "name": "stdout",
     "output_type": "stream",
     "text": [
      "Topic: 0 \n",
      "Words: 0.012*\"sour\" + 0.011*\"flavour\" + 0.010*\"aroma\" + 0.009*\"slight\" + 0.008*\"tart\" + 0.008*\"mouthfeel\" + 0.008*\"littl\" + 0.007*\"drink\" + 0.007*\"appl\" + 0.007*\"colour\"\n",
      "Topic: 1 \n",
      "Words: 0.012*\"creami\" + 0.010*\"spici\" + 0.010*\"smooth\" + 0.009*\"pepper\" + 0.009*\"stout\" + 0.008*\"drink\" + 0.008*\"glass\" + 0.007*\"spice\" + 0.007*\"note\" + 0.007*\"alcohol\"\n",
      "Topic: 2 \n",
      "Words: 0.020*\"aroma\" + 0.017*\"flavor\" + 0.015*\"dark\" + 0.011*\"hint\" + 0.011*\"mouthfeel\" + 0.011*\"glass\" + 0.011*\"slight\" + 0.010*\"color\" + 0.010*\"drinkabl\" + 0.009*\"note\"\n",
      "Topic: 3 \n",
      "Words: 0.025*\"hop\" + 0.021*\"caramel\" + 0.018*\"aroma\" + 0.014*\"amber\" + 0.011*\"slight\" + 0.011*\"malti\" + 0.010*\"brew\" + 0.009*\"earthi\" + 0.009*\"balanc\" + 0.008*\"style\"\n",
      "Topic: 4 \n",
      "Words: 0.014*\"littl\" + 0.014*\"flavor\" + 0.012*\"look\" + 0.009*\"drink\" + 0.009*\"glass\" + 0.008*\"think\" + 0.008*\"aroma\" + 0.007*\"alcohol\" + 0.007*\"feel\" + 0.007*\"dark\"\n",
      "Topic: 5 \n",
      "Words: 0.023*\"chocol\" + 0.023*\"dark\" + 0.022*\"coffe\" + 0.016*\"roast\" + 0.014*\"black\" + 0.013*\"brown\" + 0.010*\"stout\" + 0.008*\"flavour\" + 0.008*\"glass\" + 0.007*\"note\"\n",
      "Topic: 6 \n",
      "Words: 0.019*\"dark\" + 0.016*\"fruit\" + 0.015*\"littl\" + 0.014*\"brown\" + 0.014*\"caramel\" + 0.013*\"alcohol\" + 0.008*\"yeast\" + 0.008*\"flavor\" + 0.008*\"slight\" + 0.007*\"sugar\"\n",
      "Topic: 7 \n",
      "Words: 0.015*\"flavor\" + 0.014*\"slight\" + 0.012*\"lager\" + 0.011*\"aroma\" + 0.010*\"drink\" + 0.009*\"color\" + 0.009*\"littl\" + 0.009*\"hop\" + 0.008*\"mouthfeel\" + 0.007*\"golden\"\n",
      "Topic: 8 \n",
      "Words: 0.017*\"hop\" + 0.012*\"pale\" + 0.012*\"glass\" + 0.010*\"floral\" + 0.010*\"caramel\" + 0.009*\"leav\" + 0.008*\"brew\" + 0.008*\"graini\" + 0.008*\"citrus\" + 0.008*\"colour\"\n",
      "Topic: 9 \n",
      "Words: 0.019*\"hop\" + 0.015*\"citrus\" + 0.013*\"orang\" + 0.012*\"littl\" + 0.011*\"fruit\" + 0.010*\"note\" + 0.009*\"flavour\" + 0.008*\"pine\" + 0.008*\"nose\" + 0.007*\"grapefruit\"\n"
     ]
    }
   ],
   "source": [
    "for idx, topic in lda_model_10.print_topics(-1):\n",
    "    print('Topic: {} \\nWords: {}'.format(idx, topic))"
   ]
  },
  {
   "cell_type": "markdown",
   "metadata": {},
   "source": [
    "#### How many styles of beers are recorded in Canada"
   ]
  },
  {
   "cell_type": "code",
   "execution_count": 15,
   "metadata": {},
   "outputs": [
    {
     "data": {
      "text/plain": [
       "American IPA                                   1913\n",
       "American Pale Ale (APA)                        1132\n",
       "Belgian Saison                                  964\n",
       "American Wild Ale                               606\n",
       "Fruit and Field Beer                            553\n",
       "American Imperial IPA                           551\n",
       "American Amber / Red Ale                        445\n",
       "American Blonde Ale                             445\n",
       "Belgian Witbier                                 376\n",
       "American Stout                                  348\n",
       "American Lager                                  313\n",
       "American Porter                                 300\n",
       "American Imperial Stout                         287\n",
       "German Hefeweizen                               267\n",
       "American Brown Ale                              245\n",
       "Herb and Spice Beer                             227\n",
       "American Pale Wheat Ale                         205\n",
       "Berliner Weisse                                 185\n",
       "American Black Ale                              183\n",
       "Bohemian Pilsener                               183\n",
       "Belgian Pale Ale                                178\n",
       "German Pilsner                                  172\n",
       "New England IPA                                 167\n",
       "English Pale Ale                                163\n",
       "German Kölsch                                   163\n",
       "English Brown Ale                               160\n",
       "English India Pale Ale (IPA)                    158\n",
       "Belgian Tripel                                  151\n",
       "American Cream Ale                              151\n",
       "English Extra Special / Strong Bitter (ESB)     149\n",
       "                                               ... \n",
       "Scottish Gruit / Ancient Herbed Ale              30\n",
       "Munich Dunkel Lager                              29\n",
       "Foreign / Export Stout                           29\n",
       "German Roggenbier                                28\n",
       "American Brett                                   27\n",
       "German Rauchbier                                 25\n",
       "Flanders Red Ale                                 23\n",
       "Flanders Oud Bruin                               23\n",
       "Braggot                                          22\n",
       "Robust Porter                                    19\n",
       "English Strong Ale                               19\n",
       "Belgian Fruit Lambic                             17\n",
       "European Export / Dortmunder                     17\n",
       "English Pale Mild Ale                            17\n",
       "Low Alcohol Beer                                 16\n",
       "Smoke Porter                                     16\n",
       "American Dark Wheat Ale                          15\n",
       "German Eisbock                                   13\n",
       "Chile Beer                                       12\n",
       "American Wheatwine Ale                           11\n",
       "German Kristalweizen                             11\n",
       "European Strong Lager                             9\n",
       "Japanese Rice Lager                               8\n",
       "American Imperial Red Ale                         6\n",
       "Finnish Sahti                                     5\n",
       "Belgian Gueuze                                    4\n",
       "Bière de Champagne / Bière Brut                   3\n",
       "Russian Kvass                                     3\n",
       "Belgian Lambic                                    1\n",
       "Belgian Faro                                      1\n",
       "Name: style, Length: 110, dtype: int64"
      ]
     },
     "execution_count": 15,
     "metadata": {},
     "output_type": "execute_result"
    }
   ],
   "source": [
    "beer['style'].value_counts()"
   ]
  },
  {
   "cell_type": "markdown",
   "metadata": {},
   "source": [
    "#### Using HDP to determin \"optimal model numer\""
   ]
  },
  {
   "cell_type": "code",
   "execution_count": 68,
   "metadata": {},
   "outputs": [],
   "source": [
    "from gensim.test.utils import common_corpus, common_dictionary\n",
    "from gensim.models import HdpModel\n",
    "hdp = HdpModel(bow_corpus, dictionary)"
   ]
  },
  {
   "cell_type": "code",
   "execution_count": null,
   "metadata": {},
   "outputs": [],
   "source": [
    "hdp.save('CanadianHDP')"
   ]
  },
  {
   "cell_type": "code",
   "execution_count": 70,
   "metadata": {},
   "outputs": [
    {
     "data": {
      "text/plain": [
       "[(0,\n",
       "  '0.009*appl + 0.009*fruit + 0.009*citrus + 0.008*bottl + 0.008*orang + 0.007*littl + 0.007*glass + 0.007*flavor + 0.007*aroma + 0.007*note'),\n",
       " (1,\n",
       "  '0.010*citrus + 0.010*fruit + 0.010*orang + 0.009*aroma + 0.009*flavor + 0.008*grapefruit + 0.008*littl + 0.007*note + 0.007*bottl + 0.007*slight'),\n",
       " (2,\n",
       "  '0.009*citrus + 0.008*orang + 0.007*fruit + 0.006*glass + 0.006*caramel + 0.006*bottl + 0.006*aroma + 0.006*grapefruit + 0.006*slight + 0.006*note'),\n",
       " (3,\n",
       "  '0.010*citrus + 0.008*glass + 0.007*caramel + 0.007*orang + 0.006*leav + 0.006*floral + 0.006*finger + 0.006*grapefruit + 0.006*fruiti + 0.006*overal'),\n",
       " (4,\n",
       "  '0.007*fruit + 0.006*citrus + 0.006*flavor + 0.006*orang + 0.006*bottl + 0.006*aroma + 0.005*littl + 0.005*slight + 0.005*appl + 0.005*glass'),\n",
       " (5,\n",
       "  '0.006*citrus + 0.006*fruit + 0.006*orang + 0.005*glass + 0.005*aroma + 0.005*bottl + 0.005*grapefruit + 0.004*slight + 0.004*flavor + 0.004*littl'),\n",
       " (6,\n",
       "  '0.005*citrus + 0.004*orang + 0.004*fruit + 0.004*slight + 0.004*bottl + 0.004*aroma + 0.004*overal + 0.004*glass + 0.003*flavor + 0.003*cloudi'),\n",
       " (7,\n",
       "  '0.003*aroma + 0.003*orang + 0.003*fruit + 0.003*bottl + 0.003*citrus + 0.003*appl + 0.002*fact + 0.002*brew + 0.002*flavor + 0.002*great'),\n",
       " (8,\n",
       "  '0.004*citrus + 0.003*grapefruit + 0.003*orang + 0.003*caramel + 0.003*floral + 0.003*note + 0.003*glass + 0.002*leav + 0.002*bottl + 0.002*pine'),\n",
       " (9,\n",
       "  '0.003*orang + 0.003*citrus + 0.003*glass + 0.003*overal + 0.003*littl + 0.003*grapefruit + 0.003*pine + 0.003*slight + 0.003*fruit + 0.003*finger'),\n",
       " (10,\n",
       "  '0.004*citrus + 0.004*grapefruit + 0.003*fruit + 0.003*orang + 0.003*aroma + 0.002*beauti + 0.002*chanc + 0.002*flavor + 0.002*littl + 0.002*brew'),\n",
       " (11,\n",
       "  '0.004*orang + 0.003*citrus + 0.003*aroma + 0.002*flavour + 0.002*grapefruit + 0.002*drink + 0.002*fruit + 0.002*vein + 0.002*appear + 0.002*pine'),\n",
       " (12,\n",
       "  '0.003*amber + 0.003*appl + 0.002*portfolio + 0.002*bottl + 0.002*citrus + 0.002*finger + 0.002*switch + 0.002*aroma + 0.002*remot + 0.002*delici'),\n",
       " (13,\n",
       "  '0.003*aroma + 0.003*bottl + 0.002*seek + 0.002*citrus + 0.002*appl + 0.002*floral + 0.002*year + 0.002*littl + 0.002*feel + 0.002*label'),\n",
       " (14,\n",
       "  '0.003*damn + 0.002*littl + 0.002*peppi + 0.002*main + 0.002*durat + 0.002*flavour + 0.002*mayb + 0.002*flavor + 0.002*orang + 0.002*fruit'),\n",
       " (15,\n",
       "  '0.002*refresh + 0.002*crust + 0.002*flavor + 0.002*strong + 0.002*take + 0.002*citrus + 0.002*connect + 0.002*trace + 0.002*sizzl + 0.002*hazi'),\n",
       " (16,\n",
       "  '0.002*preval + 0.002*sunset + 0.002*fruit + 0.002*age + 0.002*authent + 0.002*drink + 0.002*best + 0.002*marmalad + 0.002*citrus + 0.002*kid'),\n",
       " (17,\n",
       "  '0.002*wall + 0.002*crackl + 0.002*function + 0.002*ibus + 0.002*stuff + 0.002*ale + 0.002*tarnish + 0.002*sassi + 0.002*faintest + 0.002*basic'),\n",
       " (18,\n",
       "  '0.002*cold + 0.002*cork + 0.002*reason + 0.002*nostril + 0.002*aroma + 0.002*place + 0.002*utter + 0.002*orang + 0.002*snowi + 0.002*profil'),\n",
       " (19,\n",
       "  '0.003*orang + 0.002*presenc + 0.002*medicin + 0.002*burger + 0.002*slight + 0.002*bolder + 0.002*simco + 0.002*adjac + 0.002*aroma + 0.002*wheat'),\n",
       " (20,\n",
       "  '0.002*branch + 0.002*clingi + 0.002*essenc + 0.002*there + 0.002*redeem + 0.002*cloudi + 0.002*stem + 0.002*bigger + 0.002*worthi + 0.002*woodsi'),\n",
       " (21,\n",
       "  '0.003*america + 0.003*comment + 0.003*temp + 0.002*welcom + 0.002*hurri + 0.002*cloudi + 0.002*lemonad + 0.002*crappi + 0.002*huckleberri + 0.002*zingi'),\n",
       " (22,\n",
       "  '0.002*perfumey + 0.002*chill + 0.002*cereal + 0.002*context + 0.002*free + 0.002*laci + 0.002*perfum + 0.002*nitro + 0.002*barnyard + 0.002*strongest'),\n",
       " (23,\n",
       "  '0.003*floral + 0.002*velvet + 0.002*girlfriend + 0.002*con + 0.002*pal + 0.002*thread + 0.002*verdant + 0.002*cool + 0.002*junctur + 0.002*posit'),\n",
       " (24,\n",
       "  '0.003*there + 0.003*afford + 0.002*avail + 0.002*thicker + 0.002*prais + 0.002*tell + 0.002*piney + 0.002*background + 0.002*angl + 0.002*rough'),\n",
       " (25,\n",
       "  '0.002*mainstream + 0.002*backbon + 0.002*aroma + 0.002*post + 0.002*resin + 0.002*nevada + 0.002*slight + 0.002*hill + 0.002*pinki + 0.002*mouth'),\n",
       " (26,\n",
       "  '0.004*hopi + 0.003*hoppier + 0.002*altogeth + 0.002*compet + 0.002*bulk + 0.002*sure + 0.002*januari + 0.002*particul + 0.002*shoot + 0.002*amber'),\n",
       " (27,\n",
       "  '0.002*except + 0.002*near + 0.002*western + 0.002*climb + 0.002*gahan + 0.002*interfer + 0.002*graviti + 0.002*okay + 0.002*rich + 0.002*smoother'),\n",
       " (28,\n",
       "  '0.003*sail + 0.003*coddl + 0.003*distant + 0.002*wild + 0.002*fonduevoodoo + 0.002*road + 0.002*packag + 0.002*jasmin + 0.002*punchi + 0.002*condit'),\n",
       " (29,\n",
       "  '0.003*attent + 0.002*verg + 0.002*spicey + 0.002*tabl + 0.002*flagship + 0.002*preserv + 0.002*glass + 0.002*complaint + 0.002*appl + 0.002*find'),\n",
       " (30,\n",
       "  '0.002*rotten + 0.002*canada + 0.002*adorn + 0.002*tick + 0.002*kiwi + 0.002*pech + 0.002*enter + 0.002*drop + 0.002*hamburg + 0.002*generic'),\n",
       " (31,\n",
       "  '0.002*rustic + 0.002*apricot + 0.002*mile + 0.002*wear + 0.002*room + 0.002*subsid + 0.002*varieti + 0.002*sorri + 0.002*grapefruit + 0.002*say'),\n",
       " (32,\n",
       "  '0.003*skim + 0.002*wayward + 0.002*mouss + 0.002*call + 0.002*frothi + 0.002*note + 0.002*brown + 0.002*pomm + 0.002*subtl + 0.002*eggshel'),\n",
       " (33,\n",
       "  '0.003*mango + 0.002*nutmeg + 0.002*fruit + 0.002*fan + 0.002*golden + 0.002*thirsti + 0.002*fist + 0.002*casual + 0.002*aroma + 0.002*generous'),\n",
       " (34,\n",
       "  '0.003*keep + 0.003*english + 0.002*spot + 0.002*obfusc + 0.002*junip + 0.002*give + 0.002*form + 0.002*aid + 0.002*versa + 0.002*proud'),\n",
       " (35,\n",
       "  '0.003*trip + 0.002*carb + 0.002*review + 0.002*fortun + 0.002*stun + 0.002*cloy + 0.002*squeez + 0.002*zero + 0.002*pars + 0.002*whip'),\n",
       " (36,\n",
       "  '0.003*sweati + 0.002*wall + 0.002*creamier + 0.002*deepli + 0.002*citrus + 0.002*stonefruit + 0.002*forefront + 0.002*trade + 0.002*seltzer + 0.002*harvest'),\n",
       " (37,\n",
       "  '0.004*newest + 0.002*count + 0.002*floral + 0.002*distanc + 0.002*cross + 0.002*whirl + 0.002*cobweb + 0.002*eye + 0.002*subt + 0.002*brass'),\n",
       " (38,\n",
       "  '0.002*german + 0.002*smash + 0.002*airi + 0.002*popular + 0.002*peach + 0.002*lip + 0.002*monster + 0.002*nudg + 0.002*porter + 0.002*versa'),\n",
       " (39,\n",
       "  '0.003*inhal + 0.003*laci + 0.003*decemb + 0.003*cours + 0.002*accustom + 0.002*trend + 0.002*offens + 0.002*mark + 0.002*alik + 0.002*toronto'),\n",
       " (40,\n",
       "  '0.003*faint + 0.003*imho + 0.003*easili + 0.002*brown + 0.002*herbi + 0.002*domest + 0.002*ipa + 0.002*stab + 0.002*singl + 0.002*coral'),\n",
       " (41,\n",
       "  '0.003*sneak + 0.003*biscuit + 0.002*regard + 0.002*rise + 0.002*citrus + 0.002*meld + 0.002*forth + 0.002*overt + 0.002*visibl + 0.002*trip'),\n",
       " (42,\n",
       "  '0.002*ruddi + 0.002*earnest + 0.002*hoppier + 0.002*bite + 0.002*funni + 0.002*premier + 0.002*blend + 0.002*dish + 0.002*twing + 0.002*dynam'),\n",
       " (43,\n",
       "  '0.003*southern + 0.003*backend + 0.003*achiev + 0.003*slap + 0.002*lightish + 0.002*columbia + 0.002*relat + 0.002*narrow + 0.002*suitabl + 0.002*hazi'),\n",
       " (44,\n",
       "  '0.003*attack + 0.003*talk + 0.002*restrain + 0.002*affabl + 0.002*celsius + 0.002*minim + 0.002*brasseri + 0.002*barest + 0.002*houblon + 0.002*last'),\n",
       " (45,\n",
       "  '0.002*villag + 0.002*simultan + 0.002*parent + 0.002*thrust + 0.002*fare + 0.002*entic + 0.002*bridg + 0.002*titl + 0.002*heap + 0.002*marriag'),\n",
       " (46,\n",
       "  '0.003*blue + 0.003*blend + 0.002*improv + 0.002*stellar + 0.002*thumb + 0.002*indetermin + 0.002*killer + 0.002*clammi + 0.002*meet + 0.002*tight'),\n",
       " (47,\n",
       "  '0.003*frequent + 0.002*fruiti + 0.002*gold + 0.002*trip + 0.002*ring + 0.002*earlier + 0.002*adjust + 0.002*cheap + 0.002*inch + 0.002*aipa'),\n",
       " (48,\n",
       "  '0.003*earli + 0.002*swan + 0.002*locat + 0.002*captur + 0.002*cleav + 0.002*tarnish + 0.002*releas + 0.002*elev + 0.002*away + 0.002*troi'),\n",
       " (49,\n",
       "  '0.003*piec + 0.002*mainstream + 0.002*aforement + 0.002*pink + 0.002*campfir + 0.002*char + 0.002*negat + 0.002*east + 0.002*word + 0.002*amber')]"
      ]
     },
     "execution_count": 70,
     "metadata": {},
     "output_type": "execute_result"
    }
   ],
   "source": [
    "hdp.print_topics(num_topics=50, num_words=10)"
   ]
  },
  {
   "cell_type": "code",
   "execution_count": 43,
   "metadata": {},
   "outputs": [],
   "source": [
    "filtered_beer = beer[beer['style'] == 'Belgian Saison']"
   ]
  },
  {
   "cell_type": "code",
   "execution_count": 45,
   "metadata": {},
   "outputs": [],
   "source": [
    "filtered_beer = filtered_beer.append(beer[beer['style'] == 'American IPA'])"
   ]
  },
  {
   "cell_type": "code",
   "execution_count": 46,
   "metadata": {},
   "outputs": [],
   "source": [
    "filtered_beer = filtered_beer.append(beer[beer['style'] == 'Fruit and Field Beer'])"
   ]
  },
  {
   "cell_type": "code",
   "execution_count": 51,
   "metadata": {},
   "outputs": [],
   "source": [
    "filtered_reviews = reviews[reviews['beer_number'].isin(filtered_beer['beer_number'])]"
   ]
  },
  {
   "cell_type": "code",
   "execution_count": 52,
   "metadata": {},
   "outputs": [],
   "source": [
    "filtered_comments = filtered_reviews['comment'].dropna()"
   ]
  },
  {
   "cell_type": "code",
   "execution_count": 54,
   "metadata": {},
   "outputs": [],
   "source": [
    "processed_doc = filtered_comments.apply(preprocess)"
   ]
  },
  {
   "cell_type": "code",
   "execution_count": 56,
   "metadata": {},
   "outputs": [],
   "source": [
    "dictionary = gensim.corpora.Dictionary(processed_doc)"
   ]
  },
  {
   "cell_type": "code",
   "execution_count": 62,
   "metadata": {},
   "outputs": [],
   "source": [
    "dictionary.filter_extremes(no_below=10, no_above=0.4, keep_n=100000)"
   ]
  },
  {
   "cell_type": "code",
   "execution_count": 63,
   "metadata": {},
   "outputs": [],
   "source": [
    "bow_corpus = [dictionary.doc2bow(doc) for doc in processed_doc]"
   ]
  },
  {
   "cell_type": "code",
   "execution_count": 66,
   "metadata": {},
   "outputs": [],
   "source": [
    "lda_model_5 = gensim.models.LdaMulticore(bow_corpus, num_topics=5, id2word=dictionary, passes=2, workers=7)"
   ]
  },
  {
   "cell_type": "code",
   "execution_count": 67,
   "metadata": {},
   "outputs": [
    {
     "name": "stdout",
     "output_type": "stream",
     "text": [
      "Topic: 0 \n",
      "Words: 0.016*\"appl\" + 0.014*\"flavor\" + 0.011*\"aroma\" + 0.009*\"bottl\" + 0.008*\"color\" + 0.008*\"glass\" + 0.008*\"fruit\" + 0.008*\"grapefruit\" + 0.008*\"drink\" + 0.008*\"leav\"\n",
      "Topic: 1 \n",
      "Words: 0.017*\"citrus\" + 0.015*\"orang\" + 0.010*\"note\" + 0.010*\"grapefruit\" + 0.010*\"aroma\" + 0.009*\"bottl\" + 0.009*\"fruit\" + 0.009*\"flavor\" + 0.008*\"yeast\" + 0.008*\"caramel\"\n",
      "Topic: 2 \n",
      "Words: 0.011*\"orang\" + 0.010*\"slight\" + 0.009*\"grapefruit\" + 0.009*\"nose\" + 0.009*\"fruit\" + 0.008*\"pine\" + 0.007*\"caramel\" + 0.007*\"bottl\" + 0.007*\"littl\" + 0.006*\"flavour\"\n",
      "Topic: 3 \n",
      "Words: 0.012*\"appl\" + 0.010*\"citrus\" + 0.008*\"nose\" + 0.008*\"mouthfeel\" + 0.008*\"flavor\" + 0.008*\"overal\" + 0.008*\"finger\" + 0.007*\"aroma\" + 0.007*\"glass\" + 0.006*\"orang\"\n",
      "Topic: 4 \n",
      "Words: 0.014*\"fruit\" + 0.013*\"citrus\" + 0.012*\"littl\" + 0.011*\"glass\" + 0.009*\"bottl\" + 0.009*\"finger\" + 0.008*\"slight\" + 0.008*\"fruiti\" + 0.008*\"aroma\" + 0.008*\"orang\"\n"
     ]
    }
   ],
   "source": [
    "for idx, topic in lda_model_5.print_topics(-1):\n",
    "    print('Topic: {} \\nWords: {}'.format(idx, topic))"
   ]
  },
  {
   "cell_type": "code",
   "execution_count": null,
   "metadata": {},
   "outputs": [],
   "source": []
  }
 ],
 "metadata": {
  "kernelspec": {
   "display_name": "Python 3",
   "language": "python",
   "name": "python3"
  },
  "language_info": {
   "codemirror_mode": {
    "name": "ipython",
    "version": 3
   },
   "file_extension": ".py",
   "mimetype": "text/x-python",
   "name": "python",
   "nbconvert_exporter": "python",
   "pygments_lexer": "ipython3",
   "version": "3.7.1"
  }
 },
 "nbformat": 4,
 "nbformat_minor": 2
}
