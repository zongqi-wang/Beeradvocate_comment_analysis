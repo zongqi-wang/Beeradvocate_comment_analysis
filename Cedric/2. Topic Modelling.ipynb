{
 "cells": [
  {
   "cell_type": "code",
   "execution_count": 1,
   "metadata": {},
   "outputs": [],
   "source": [
    "import pandas as pd\n",
    "brew = pd.read_csv(\"CanadianBreweries.csv\")\n",
    "beer = pd.read_csv(\"CanadianBeers.csv\")\n",
    "reviews = pd.read_csv(\"CanadianReviews.csv\")"
   ]
  },
  {
   "cell_type": "markdown",
   "metadata": {},
   "source": [
    "#### Seperating the comment data"
   ]
  },
  {
   "cell_type": "code",
   "execution_count": 2,
   "metadata": {},
   "outputs": [
    {
     "data": {
      "text/plain": [
       "0    Appearance - Pours a hazy blush with two finge...\n",
       "1    A collaboration brew with Small Pony Barrel Wo...\n",
       "2                                                  NaN\n",
       "3                                                  NaN\n",
       "4                                                  NaN\n",
       "Name: comment, dtype: object"
      ]
     },
     "execution_count": 2,
     "metadata": {},
     "output_type": "execute_result"
    }
   ],
   "source": [
    "comments = reviews['comment']\n",
    "comments.head()"
   ]
  },
  {
   "cell_type": "markdown",
   "metadata": {},
   "source": [
    "#### Getting rid of NA"
   ]
  },
  {
   "cell_type": "code",
   "execution_count": 3,
   "metadata": {},
   "outputs": [
    {
     "data": {
      "text/plain": [
       "0    Appearance - Pours a hazy blush with two finge...\n",
       "1    A collaboration brew with Small Pony Barrel Wo...\n",
       "5    Is pours a Light bronze/gold with a 3 finger w...\n",
       "7    1L howler from Sherbrooke Liquor store - made ...\n",
       "8    1L howler from Sherbrooke Liquor store, who re...\n",
       "Name: comment, dtype: object"
      ]
     },
     "execution_count": 3,
     "metadata": {},
     "output_type": "execute_result"
    }
   ],
   "source": [
    "comments = comments.dropna()\n",
    "comments.head()"
   ]
  },
  {
   "cell_type": "markdown",
   "metadata": {},
   "source": [
    "#### Importing tools"
   ]
  },
  {
   "cell_type": "code",
   "execution_count": 4,
   "metadata": {},
   "outputs": [
    {
     "name": "stderr",
     "output_type": "stream",
     "text": [
      "[nltk_data] Downloading package wordnet to /home/cedric/nltk_data...\n",
      "[nltk_data]   Package wordnet is already up-to-date!\n"
     ]
    },
    {
     "data": {
      "text/plain": [
       "True"
      ]
     },
     "execution_count": 4,
     "metadata": {},
     "output_type": "execute_result"
    }
   ],
   "source": [
    "import gensim\n",
    "from gensim.utils import simple_preprocess\n",
    "from gensim.parsing.preprocessing import STOPWORDS\n",
    "from nltk.stem import WordNetLemmatizer, SnowballStemmer\n",
    "from nltk.stem.porter import *\n",
    "import numpy as np\n",
    "import nltk\n",
    "nltk.download('wordnet')"
   ]
  },
  {
   "cell_type": "markdown",
   "metadata": {},
   "source": [
    "#### Word Processing"
   ]
  },
  {
   "cell_type": "markdown",
   "metadata": {},
   "source": [
    "We need to process the data for topic modelling, which includes splitting sentences into words, removing punctuation, lowercasing the words, removing stopwords, lemmatizing words, removing stop word, and stemming the words"
   ]
  },
  {
   "cell_type": "markdown",
   "metadata": {},
   "source": [
    "Lemmatizing means changing the word to first person form and present form.\n",
    "Stemming means reducing words to their root form."
   ]
  },
  {
   "cell_type": "code",
   "execution_count": 5,
   "metadata": {},
   "outputs": [],
   "source": [
    "stemmer = SnowballStemmer('english')\n",
    "def lemmatize_stemming(text):\n",
    "    return stemmer.stem(WordNetLemmatizer().lemmatize(text, pos='v'))\n",
    "\n",
    "def preprocess(text):\n",
    "    result = []\n",
    "    for token in gensim.utils.simple_preprocess(text):\n",
    "        if token not in gensim.parsing.preprocessing.STOPWORDS and len(token) > 3:\n",
    "            result.append(lemmatize_stemming(token))\n",
    "    return result"
   ]
  },
  {
   "cell_type": "markdown",
   "metadata": {},
   "source": [
    "Cheking the function"
   ]
  },
  {
   "cell_type": "code",
   "execution_count": 6,
   "metadata": {},
   "outputs": [
    {
     "data": {
      "text/plain": [
       "'A collaboration brew with Small Pony Barrel Works.    Appearance - Pours a hazy gold with a finger of bubbly white head.    Smell - spicy earthy yeast, vinous aromas, bready and biscuity malts, spicy earthy, leafy, and floral hops, lime and citrus aromas.    Taste - Spicy earthy yeast then quickly goes into the bold tart and pungent vinous characteristics. The bready and biscuity malts, spicy earthy, leafy, and floral hops come through next. The lime and citrus notes finish the brew off.    Mouthfeel - Medium bodied with moderate to high carbonation. Finishes tart and sticky alongside a bold tartness.     Overall - A bold and pungent brew that definitely delivers on the sourness. A single can is plenty for me but nonetheless an enjoyable brew!        '"
      ]
     },
     "execution_count": 6,
     "metadata": {},
     "output_type": "execute_result"
    }
   ],
   "source": [
    "sample = comments[1]\n",
    "sample"
   ]
  },
  {
   "cell_type": "code",
   "execution_count": 7,
   "metadata": {},
   "outputs": [
    {
     "data": {
      "text/plain": [
       "['collabor',\n",
       " 'brew',\n",
       " 'small',\n",
       " 'poni',\n",
       " 'barrel',\n",
       " 'work',\n",
       " 'appear',\n",
       " 'pour',\n",
       " 'hazi',\n",
       " 'gold',\n",
       " 'finger',\n",
       " 'bubbl',\n",
       " 'white',\n",
       " 'head',\n",
       " 'smell',\n",
       " 'spici',\n",
       " 'earthi',\n",
       " 'yeast',\n",
       " 'vinous',\n",
       " 'aroma',\n",
       " 'breadi',\n",
       " 'biscuiti',\n",
       " 'malt',\n",
       " 'spici',\n",
       " 'earthi',\n",
       " 'leafi',\n",
       " 'floral',\n",
       " 'hop',\n",
       " 'lime',\n",
       " 'citrus',\n",
       " 'aroma',\n",
       " 'tast',\n",
       " 'spici',\n",
       " 'earthi',\n",
       " 'yeast',\n",
       " 'quick',\n",
       " 'go',\n",
       " 'bold',\n",
       " 'tart',\n",
       " 'pungent',\n",
       " 'vinous',\n",
       " 'characterist',\n",
       " 'breadi',\n",
       " 'biscuiti',\n",
       " 'malt',\n",
       " 'spici',\n",
       " 'earthi',\n",
       " 'leafi',\n",
       " 'floral',\n",
       " 'hop',\n",
       " 'come',\n",
       " 'lime',\n",
       " 'citrus',\n",
       " 'note',\n",
       " 'finish',\n",
       " 'brew',\n",
       " 'mouthfeel',\n",
       " 'medium',\n",
       " 'bodi',\n",
       " 'moder',\n",
       " 'high',\n",
       " 'carbon',\n",
       " 'finish',\n",
       " 'tart',\n",
       " 'sticki',\n",
       " 'alongsid',\n",
       " 'bold',\n",
       " 'tart',\n",
       " 'overal',\n",
       " 'bold',\n",
       " 'pungent',\n",
       " 'brew',\n",
       " 'definit',\n",
       " 'deliv',\n",
       " 'sour',\n",
       " 'singl',\n",
       " 'plenti',\n",
       " 'nonetheless',\n",
       " 'enjoy',\n",
       " 'brew']"
      ]
     },
     "execution_count": 7,
     "metadata": {},
     "output_type": "execute_result"
    }
   ],
   "source": [
    "preprocess(sample)"
   ]
  },
  {
   "cell_type": "markdown",
   "metadata": {},
   "source": [
    "#### Now is the time to process all comments. Warning: this step takes a while"
   ]
  },
  {
   "cell_type": "code",
   "execution_count": 8,
   "metadata": {},
   "outputs": [],
   "source": [
    "processed_doc = comments.apply(preprocess)"
   ]
  },
  {
   "cell_type": "code",
   "execution_count": 9,
   "metadata": {},
   "outputs": [
    {
     "data": {
      "text/plain": [
       "0    [appear, pour, hazi, blush, finger, bubbl, whi...\n",
       "1    [collabor, brew, small, poni, barrel, work, ap...\n",
       "5    [pour, light, bronz, gold, finger, white, foam...\n",
       "7    [howler, sherbrook, liquor, store, earl, grey,...\n",
       "8    [howler, sherbrook, liquor, store, need, asses...\n",
       "Name: comment, dtype: object"
      ]
     },
     "execution_count": 9,
     "metadata": {},
     "output_type": "execute_result"
    }
   ],
   "source": [
    "processed_doc.head()"
   ]
  },
  {
   "cell_type": "markdown",
   "metadata": {},
   "source": [
    "#### Build a dictionary from the corpus, and remove common words that are in over 50% of the comments, and remove those that appear less than 15 times"
   ]
  },
  {
   "cell_type": "code",
   "execution_count": 10,
   "metadata": {},
   "outputs": [],
   "source": [
    "dictionary = gensim.corpora.Dictionary(processed_doc)"
   ]
  },
  {
   "cell_type": "code",
   "execution_count": 11,
   "metadata": {},
   "outputs": [],
   "source": [
    "dictionary.filter_extremes(no_below=15, no_above=0.4, keep_n=100000)"
   ]
  },
  {
   "cell_type": "markdown",
   "metadata": {},
   "source": [
    "#### Saving the corpus into a bag of words (BoW) format"
   ]
  },
  {
   "cell_type": "code",
   "execution_count": 12,
   "metadata": {},
   "outputs": [],
   "source": [
    "bow_corpus = [dictionary.doc2bow(doc) for doc in processed_doc]"
   ]
  },
  {
   "cell_type": "markdown",
   "metadata": {},
   "source": [
    "#### Running LDA using Bow with 8 threads"
   ]
  },
  {
   "cell_type": "code",
   "execution_count": 13,
   "metadata": {},
   "outputs": [],
   "source": [
    "lda_model_30 = gensim.models.LdaMulticore(bow_corpus, num_topics=30, id2word=dictionary, passes=2, workers=7)"
   ]
  },
  {
   "cell_type": "code",
   "execution_count": 14,
   "metadata": {},
   "outputs": [
    {
     "name": "stdout",
     "output_type": "stream",
     "text": [
      "Topic: 0 \n",
      "Words: 0.020*\"aroma\" + 0.015*\"citrus\" + 0.014*\"drink\" + 0.013*\"flavor\" + 0.012*\"color\" + 0.011*\"mouthfeel\" + 0.011*\"white\" + 0.009*\"bottl\" + 0.008*\"overal\" + 0.008*\"great\"\n",
      "Topic: 1 \n",
      "Words: 0.012*\"dark\" + 0.011*\"bottl\" + 0.008*\"brew\" + 0.008*\"leav\" + 0.007*\"littl\" + 0.007*\"chocol\" + 0.007*\"brown\" + 0.007*\"caramel\" + 0.007*\"finger\" + 0.006*\"glass\"\n",
      "Topic: 2 \n",
      "Words: 0.020*\"pumpkin\" + 0.016*\"glass\" + 0.016*\"white\" + 0.014*\"bottl\" + 0.013*\"medium\" + 0.012*\"nose\" + 0.011*\"spice\" + 0.010*\"pint\" + 0.010*\"leav\" + 0.009*\"orang\"\n",
      "Topic: 3 \n",
      "Words: 0.024*\"citrus\" + 0.016*\"orang\" + 0.015*\"hop\" + 0.015*\"grapefruit\" + 0.013*\"pine\" + 0.012*\"medium\" + 0.012*\"balanc\" + 0.011*\"white\" + 0.009*\"aroma\" + 0.009*\"mouthfeel\"\n",
      "Topic: 4 \n",
      "Words: 0.015*\"medium\" + 0.014*\"hop\" + 0.011*\"caramel\" + 0.011*\"graini\" + 0.011*\"white\" + 0.010*\"earthi\" + 0.010*\"breadi\" + 0.010*\"leafi\" + 0.009*\"leav\" + 0.009*\"smooth\"\n",
      "Topic: 5 \n",
      "Words: 0.012*\"glass\" + 0.010*\"earthi\" + 0.009*\"graini\" + 0.009*\"floral\" + 0.009*\"leav\" + 0.009*\"leafi\" + 0.008*\"pale\" + 0.008*\"hoppi\" + 0.008*\"overal\" + 0.008*\"medium\"\n",
      "Topic: 6 \n",
      "Words: 0.022*\"dark\" + 0.021*\"flavor\" + 0.016*\"alcohol\" + 0.014*\"brown\" + 0.014*\"fruit\" + 0.012*\"aroma\" + 0.010*\"mouthfeel\" + 0.010*\"note\" + 0.010*\"slight\" + 0.010*\"color\"\n",
      "Topic: 7 \n",
      "Words: 0.018*\"hop\" + 0.016*\"flavor\" + 0.012*\"dark\" + 0.012*\"medium\" + 0.012*\"littl\" + 0.011*\"fruit\" + 0.010*\"white\" + 0.009*\"glass\" + 0.008*\"mild\" + 0.007*\"mouthfeel\"\n",
      "Topic: 8 \n",
      "Words: 0.014*\"alcohol\" + 0.011*\"flavor\" + 0.009*\"bottl\" + 0.009*\"aroma\" + 0.009*\"drink\" + 0.008*\"mouthfeel\" + 0.008*\"dark\" + 0.008*\"white\" + 0.007*\"glass\" + 0.007*\"drinkabl\"\n",
      "Topic: 9 \n",
      "Words: 0.024*\"fruit\" + 0.020*\"bottl\" + 0.017*\"flavor\" + 0.011*\"tart\" + 0.010*\"raspberri\" + 0.009*\"white\" + 0.009*\"wheat\" + 0.008*\"aroma\" + 0.008*\"medium\" + 0.008*\"color\"\n",
      "Topic: 10 \n",
      "Words: 0.021*\"bourbon\" + 0.019*\"vanilla\" + 0.016*\"barrel\" + 0.013*\"note\" + 0.013*\"bottl\" + 0.011*\"alcohol\" + 0.009*\"caramel\" + 0.009*\"age\" + 0.009*\"brown\" + 0.008*\"medium\"\n",
      "Topic: 11 \n",
      "Words: 0.011*\"drink\" + 0.010*\"appl\" + 0.009*\"white\" + 0.009*\"corn\" + 0.008*\"lager\" + 0.008*\"nose\" + 0.008*\"think\" + 0.008*\"macro\" + 0.007*\"adjunct\" + 0.007*\"look\"\n",
      "Topic: 12 \n",
      "Words: 0.012*\"hop\" + 0.008*\"note\" + 0.007*\"flavor\" + 0.007*\"coffe\" + 0.006*\"feel\" + 0.006*\"littl\" + 0.006*\"drink\" + 0.006*\"aroma\" + 0.006*\"glass\" + 0.006*\"slight\"\n",
      "Topic: 13 \n",
      "Words: 0.031*\"coffe\" + 0.021*\"flavor\" + 0.014*\"stout\" + 0.014*\"black\" + 0.012*\"littl\" + 0.011*\"aroma\" + 0.011*\"bottl\" + 0.010*\"roast\" + 0.010*\"dark\" + 0.009*\"creami\"\n",
      "Topic: 14 \n",
      "Words: 0.026*\"hop\" + 0.016*\"flavour\" + 0.012*\"aroma\" + 0.012*\"colour\" + 0.011*\"bottl\" + 0.010*\"caramel\" + 0.010*\"mouthfeel\" + 0.010*\"littl\" + 0.010*\"clear\" + 0.009*\"slight\"\n",
      "Topic: 15 \n",
      "Words: 0.018*\"caramel\" + 0.015*\"fruit\" + 0.014*\"averag\" + 0.012*\"colour\" + 0.011*\"dark\" + 0.010*\"slight\" + 0.009*\"overal\" + 0.009*\"citrus\" + 0.009*\"littl\" + 0.009*\"great\"\n",
      "Topic: 16 \n",
      "Words: 0.018*\"bottl\" + 0.012*\"slight\" + 0.011*\"dark\" + 0.010*\"littl\" + 0.010*\"caramel\" + 0.009*\"note\" + 0.009*\"glass\" + 0.007*\"fruit\" + 0.007*\"flavor\" + 0.007*\"balanc\"\n",
      "Topic: 17 \n",
      "Words: 0.013*\"littl\" + 0.012*\"hop\" + 0.011*\"bottl\" + 0.010*\"white\" + 0.010*\"brew\" + 0.009*\"medium\" + 0.009*\"glass\" + 0.008*\"flavor\" + 0.008*\"leav\" + 0.008*\"clear\"\n",
      "Topic: 18 \n",
      "Words: 0.011*\"hop\" + 0.009*\"drink\" + 0.009*\"slight\" + 0.009*\"bottl\" + 0.009*\"littl\" + 0.009*\"smoke\" + 0.008*\"mouthfeel\" + 0.008*\"white\" + 0.007*\"brew\" + 0.007*\"drinkabl\"\n",
      "Topic: 19 \n",
      "Words: 0.035*\"chocol\" + 0.033*\"dark\" + 0.032*\"coffe\" + 0.026*\"roast\" + 0.018*\"black\" + 0.018*\"brown\" + 0.013*\"stout\" + 0.011*\"medium\" + 0.009*\"caramel\" + 0.009*\"bottl\"\n",
      "Topic: 20 \n",
      "Words: 0.018*\"glass\" + 0.017*\"yeast\" + 0.013*\"alcohol\" + 0.013*\"flavor\" + 0.012*\"fruit\" + 0.012*\"medium\" + 0.012*\"dark\" + 0.011*\"bottl\" + 0.011*\"aroma\" + 0.010*\"hint\"\n",
      "Topic: 21 \n",
      "Words: 0.034*\"hop\" + 0.019*\"caramel\" + 0.019*\"medium\" + 0.018*\"white\" + 0.016*\"slight\" + 0.014*\"balanc\" + 0.012*\"clear\" + 0.012*\"drink\" + 0.010*\"aroma\" + 0.010*\"littl\"\n",
      "Topic: 22 \n",
      "Words: 0.017*\"flavour\" + 0.017*\"hop\" + 0.017*\"slight\" + 0.012*\"white\" + 0.012*\"note\" + 0.010*\"littl\" + 0.010*\"pale\" + 0.009*\"lemon\" + 0.009*\"hint\" + 0.008*\"citrus\"\n",
      "Topic: 23 \n",
      "Words: 0.020*\"spice\" + 0.018*\"dark\" + 0.016*\"littl\" + 0.015*\"fruit\" + 0.013*\"great\" + 0.011*\"slight\" + 0.010*\"medium\" + 0.010*\"orang\" + 0.010*\"aroma\" + 0.009*\"bottl\"\n",
      "Topic: 24 \n",
      "Words: 0.013*\"yeast\" + 0.012*\"hop\" + 0.012*\"aroma\" + 0.012*\"style\" + 0.010*\"belgian\" + 0.010*\"caramel\" + 0.010*\"slight\" + 0.009*\"white\" + 0.009*\"bottl\" + 0.009*\"pretti\"\n",
      "Topic: 25 \n",
      "Words: 0.016*\"appl\" + 0.011*\"look\" + 0.010*\"orang\" + 0.009*\"great\" + 0.009*\"brew\" + 0.008*\"hop\" + 0.008*\"littl\" + 0.007*\"fruit\" + 0.007*\"drink\" + 0.007*\"come\"\n",
      "Topic: 26 \n",
      "Words: 0.020*\"hop\" + 0.017*\"medium\" + 0.016*\"caramel\" + 0.013*\"white\" + 0.012*\"slight\" + 0.012*\"citrus\" + 0.011*\"orang\" + 0.011*\"malti\" + 0.011*\"aroma\" + 0.010*\"floral\"\n",
      "Topic: 27 \n",
      "Words: 0.025*\"yeast\" + 0.016*\"note\" + 0.015*\"spice\" + 0.015*\"flavor\" + 0.014*\"belgian\" + 0.013*\"fruiti\" + 0.012*\"aroma\" + 0.011*\"white\" + 0.010*\"littl\" + 0.010*\"orang\"\n",
      "Topic: 28 \n",
      "Words: 0.020*\"lager\" + 0.015*\"hop\" + 0.013*\"pale\" + 0.011*\"style\" + 0.010*\"littl\" + 0.008*\"glass\" + 0.007*\"drink\" + 0.007*\"aroma\" + 0.007*\"slight\" + 0.007*\"mouthfeel\"\n",
      "Topic: 29 \n",
      "Words: 0.016*\"flavour\" + 0.008*\"colour\" + 0.007*\"fruit\" + 0.007*\"orang\" + 0.007*\"littl\" + 0.007*\"come\" + 0.007*\"finger\" + 0.007*\"bottl\" + 0.006*\"note\" + 0.006*\"grapefruit\"\n"
     ]
    }
   ],
   "source": [
    "for idx, topic in lda_model_30.print_topics(-1):\n",
    "    print('Topic: {} \\nWords: {}'.format(idx, topic))"
   ]
  },
  {
   "cell_type": "markdown",
   "metadata": {},
   "source": [
    "#### How many styles of beers are recorded in Canada"
   ]
  },
  {
   "cell_type": "code",
   "execution_count": 15,
   "metadata": {},
   "outputs": [
    {
     "data": {
      "text/plain": [
       "American IPA                                   1913\n",
       "American Pale Ale (APA)                        1132\n",
       "Belgian Saison                                  964\n",
       "American Wild Ale                               606\n",
       "Fruit and Field Beer                            553\n",
       "American Imperial IPA                           551\n",
       "American Amber / Red Ale                        445\n",
       "American Blonde Ale                             445\n",
       "Belgian Witbier                                 376\n",
       "American Stout                                  348\n",
       "American Lager                                  313\n",
       "American Porter                                 300\n",
       "American Imperial Stout                         287\n",
       "German Hefeweizen                               267\n",
       "American Brown Ale                              245\n",
       "Herb and Spice Beer                             227\n",
       "American Pale Wheat Ale                         205\n",
       "Berliner Weisse                                 185\n",
       "American Black Ale                              183\n",
       "Bohemian Pilsener                               183\n",
       "Belgian Pale Ale                                178\n",
       "German Pilsner                                  172\n",
       "New England IPA                                 167\n",
       "English Pale Ale                                163\n",
       "German Kölsch                                   163\n",
       "English Brown Ale                               160\n",
       "English India Pale Ale (IPA)                    158\n",
       "Belgian Tripel                                  151\n",
       "American Cream Ale                              151\n",
       "English Extra Special / Strong Bitter (ESB)     149\n",
       "                                               ... \n",
       "Scottish Gruit / Ancient Herbed Ale              30\n",
       "Munich Dunkel Lager                              29\n",
       "Foreign / Export Stout                           29\n",
       "German Roggenbier                                28\n",
       "American Brett                                   27\n",
       "German Rauchbier                                 25\n",
       "Flanders Red Ale                                 23\n",
       "Flanders Oud Bruin                               23\n",
       "Braggot                                          22\n",
       "Robust Porter                                    19\n",
       "English Strong Ale                               19\n",
       "Belgian Fruit Lambic                             17\n",
       "European Export / Dortmunder                     17\n",
       "English Pale Mild Ale                            17\n",
       "Low Alcohol Beer                                 16\n",
       "Smoke Porter                                     16\n",
       "American Dark Wheat Ale                          15\n",
       "German Eisbock                                   13\n",
       "Chile Beer                                       12\n",
       "American Wheatwine Ale                           11\n",
       "German Kristalweizen                             11\n",
       "European Strong Lager                             9\n",
       "Japanese Rice Lager                               8\n",
       "American Imperial Red Ale                         6\n",
       "Finnish Sahti                                     5\n",
       "Belgian Gueuze                                    4\n",
       "Bière de Champagne / Bière Brut                   3\n",
       "Russian Kvass                                     3\n",
       "Belgian Lambic                                    1\n",
       "Belgian Faro                                      1\n",
       "Name: style, Length: 110, dtype: int64"
      ]
     },
     "execution_count": 15,
     "metadata": {},
     "output_type": "execute_result"
    }
   ],
   "source": [
    "beer['style'].value_counts()"
   ]
  },
  {
   "cell_type": "markdown",
   "metadata": {},
   "source": [
    "#### Using HDP to determin \"optimal model numer\""
   ]
  },
  {
   "cell_type": "code",
   "execution_count": null,
   "metadata": {},
   "outputs": [],
   "source": [
    "from gensim.test.utils import common_corpus, common_dictionary\n",
    "from gensim.models import HdpModel\n",
    "hdp = HdpModel(bow_corpus, dictionary)"
   ]
  },
  {
   "cell_type": "code",
   "execution_count": null,
   "metadata": {},
   "outputs": [],
   "source": [
    "hdp.save('CanadianHDP')"
   ]
  },
  {
   "cell_type": "code",
   "execution_count": null,
   "metadata": {},
   "outputs": [],
   "source": [
    "hdp.print_topics(num_topics=30, num_words=10)"
   ]
  },
  {
   "cell_type": "code",
   "execution_count": null,
   "metadata": {},
   "outputs": [],
   "source": []
  },
  {
   "cell_type": "code",
   "execution_count": null,
   "metadata": {},
   "outputs": [],
   "source": []
  },
  {
   "cell_type": "code",
   "execution_count": null,
   "metadata": {},
   "outputs": [],
   "source": []
  }
 ],
 "metadata": {
  "kernelspec": {
   "display_name": "Python 3",
   "language": "python",
   "name": "python3"
  },
  "language_info": {
   "codemirror_mode": {
    "name": "ipython",
    "version": 3
   },
   "file_extension": ".py",
   "mimetype": "text/x-python",
   "name": "python",
   "nbconvert_exporter": "python",
   "pygments_lexer": "ipython3",
   "version": "3.6.8"
  }
 },
 "nbformat": 4,
 "nbformat_minor": 2
}
